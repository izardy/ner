{
 "cells": [
  {
   "cell_type": "code",
   "execution_count": null,
   "metadata": {},
   "outputs": [],
   "source": [
    "!python -m spacy init fill-config base_config_gpu.cfg config.cfg"
   ]
  },
  {
   "cell_type": "markdown",
   "metadata": {},
   "source": [
    "### Configuration for Windows\n",
    "- Check cuda version in terminal\n",
    "  - ```nvidia-smi```\n",
    "\n",
    "- Install cupy-cuda based on version obtained\n",
    "  - ```pip install cupy-cuda12x```\n",
    "\n",
    "- Install ```thinc-gpu-ops```\n",
    "  - ```pip install thinc-gpu-ops```\n",
    "\n",
    "- Reinstall Window Pytorch\n",
    "  - ```pip3 install torch torchvision torchaudio --index-url https://download.pytorch.org/whl/cu124```\n",
    "\n",
    "- Reinstall spacy with Cuda\n",
    "  - ```pip install -U spacy[cudaxxx]```\n",
    "  > xxx is the cuda version\n"
   ]
  },
  {
   "cell_type": "code",
   "execution_count": 2,
   "metadata": {},
   "outputs": [
    {
     "name": "stdout",
     "output_type": "stream",
     "text": [
      "True\n",
      "1\n"
     ]
    }
   ],
   "source": [
    "import torch\n",
    "print(torch.cuda.is_available())  # Check if CUDA is available\n",
    "print(torch.cuda.device_count())  # Check number of GPUs available\n"
   ]
  },
  {
   "cell_type": "code",
   "execution_count": 3,
   "metadata": {},
   "outputs": [
    {
     "name": "stdout",
     "output_type": "stream",
     "text": [
      "\u001b[38;5;4mℹ Saving to output directory:\n",
      "\\Users\\izardy\\Documents\\GitHub\\ner\\models\\ner_model_news_english\u001b[0m\n",
      "\u001b[38;5;4mℹ Using GPU: 0\u001b[0m\n",
      "\u001b[1m\n",
      "=========================== Initializing pipeline ===========================\u001b[0m\n",
      "\u001b[38;5;2m✔ Initialized pipeline\u001b[0m\n",
      "\u001b[1m\n",
      "============================= Training pipeline =============================\u001b[0m\n",
      "\u001b[38;5;4mℹ Pipeline: ['transformer', 'ner']\u001b[0m\n",
      "\u001b[38;5;4mℹ Initial learn rate: 0.0\u001b[0m\n",
      "E    #       LOSS TRANS...  LOSS NER  ENTS_F  ENTS_P  ENTS_R  SCORE \n",
      "---  ------  -------------  --------  ------  ------  ------  ------\n",
      "  0       0        1027.60   2028.92    0.00    0.00    0.01    0.00\n",
      "  0     200      225652.63  77443.33   17.55   20.90   15.12    0.18\n",
      "  0     400       34799.92  12790.88   69.73   69.77   69.69    0.70\n",
      "  0     600       16755.79   9699.92   74.23   69.75   79.32    0.74\n",
      "  1     800        5509.15   8061.05   77.48   72.91   82.65    0.77\n",
      "  1    1000        5524.08   8379.61   78.38   72.42   85.41    0.78\n",
      "  1    1200        4490.30   7921.10   81.05   77.75   84.65    0.81\n",
      "  2    1400        4319.48   6579.05   81.78   79.93   83.72    0.82\n",
      "  2    1600        3331.55   6981.83   80.43   72.27   90.67    0.80\n",
      "  2    1800        2940.46   6159.03   82.06   75.51   89.86    0.82\n",
      "  3    2000        2940.73   5604.61   84.07   83.55   84.58    0.84\n",
      "  3    2200        5573.14   6000.54   85.11   82.78   87.57    0.85\n",
      "  3    2400        2792.99   5804.08   85.59   83.59   87.69    0.86\n",
      "  4    2600        2947.47   5107.48   86.60   83.29   90.18    0.87\n",
      "  4    2800        2501.38   4949.18   86.09   79.69   93.61    0.86\n",
      "  4    3000        4026.92   4676.76   88.13   84.83   91.70    0.88\n",
      "  5    3200        2556.06   4379.61   89.03   87.51   90.60    0.89\n",
      "  5    3400        1995.58   4063.26   89.29   88.17   90.45    0.89\n",
      "  5    3600        2133.10   4247.04   89.33   87.16   91.61    0.89\n",
      "  6    3800        1789.93   3849.31   90.43   87.37   93.72    0.90\n",
      "  6    4000        1562.57   3456.84   90.37   86.75   94.30    0.90\n",
      "  6    4200        1846.01   3627.22   90.76   91.96   89.60    0.91\n",
      "  7    4400        1539.29   3244.32   91.61   88.00   95.52    0.92\n",
      "  7    4600        2886.92   2994.63   92.82   92.38   93.26    0.93\n",
      "  7    4800        1463.31   3107.78   92.98   90.58   95.50    0.93\n",
      "  8    5000        1373.39   2731.93   92.49   90.05   95.06    0.92\n",
      "  8    5200        1273.51   2427.11   93.31   91.57   95.12    0.93\n",
      "  8    5400        1374.73   2759.37   94.01   93.13   94.91    0.94\n",
      "  9    5600        1734.55   2375.58   93.73   91.06   96.57    0.94\n",
      "  9    5800        1199.36   2308.23   94.60   93.57   95.65    0.95\n",
      "  9    6000        1018.82   2048.09   95.21   94.59   95.84    0.95\n",
      " 10    6200         946.31   1990.98   95.22   94.55   95.91    0.95\n",
      " 10    6400         890.09   1820.25   95.61   95.87   95.35    0.96\n",
      " 10    6600         892.89   1789.77   95.34   94.11   96.60    0.95\n",
      " 11    6800         845.97   1755.96   95.62   95.85   95.39    0.96\n",
      " 11    7000         811.45   1543.45   96.29   95.82   96.77    0.96\n",
      " 11    7200         815.62   1576.75   96.22   95.01   97.45    0.96\n",
      " 12    7400         905.66   1602.79   96.70   96.37   97.03    0.97\n",
      " 12    7600         706.31   1330.12   96.59   96.82   96.36    0.97\n",
      " 12    7800         728.10   1392.04   96.85   96.74   96.96    0.97\n",
      " 13    8000         614.34   1220.56   96.95   96.37   97.55    0.97\n",
      " 13    8200         563.41   1106.42   97.00   96.86   97.13    0.97\n",
      " 13    8400         591.21   1094.91   96.15   94.34   98.03    0.96\n",
      " 14    8600         719.65   1163.33   97.12   96.72   97.53    0.97\n",
      " 14    8800         583.14   1028.14   97.50   97.90   97.11    0.98\n",
      " 14    9000        2432.85   1104.91   97.29   96.78   97.80    0.97\n",
      " 15    9200         523.89    975.78   97.80   97.89   97.72    0.98\n",
      " 15    9400         683.96    957.25   97.85   97.80   97.89    0.98\n",
      " 15    9600         476.49    840.20   97.05   96.15   97.97    0.97\n",
      " 16    9800         439.62    805.51   97.51   97.01   98.01    0.98\n",
      " 16   10000         680.64    735.84   97.67   97.67   97.68    0.98\n",
      " 16   10200         595.09    812.03   97.88   97.84   97.92    0.98\n",
      " 17   10400         525.32    701.30   97.60   96.99   98.21    0.98\n",
      " 17   10600         356.19    591.80   97.99   97.99   98.00    0.98\n",
      " 17   10800         448.73    659.15   98.00   97.85   98.14    0.98\n",
      " 18   11000         386.81    648.89   98.00   97.82   98.19    0.98\n",
      " 18   11200         351.79    524.22   98.03   98.04   98.02    0.98\n",
      " 18   11400         360.42    614.49   98.01   98.05   97.97    0.98\n",
      " 19   11600         327.80    539.91   98.03   97.80   98.26    0.98\n",
      " 19   11800         288.65    470.49   98.09   98.06   98.12    0.98\n",
      " 19   12000         333.82    482.13   98.12   97.97   98.27    0.98\n",
      " 20   12200         323.70    497.05   98.23   98.40   98.06    0.98\n",
      " 20   12400         250.80    380.99   98.01   97.70   98.32    0.98\n",
      " 20   12600         301.01    440.47   98.00   97.71   98.30    0.98\n",
      " 20   12800         275.99    396.02   98.12   97.93   98.30    0.98\n",
      " 21   13000         217.97    354.01   98.15   97.98   98.32    0.98\n",
      " 21   13200         272.83    413.49   98.13   97.96   98.30    0.98\n",
      " 21   13400         261.11    375.79   98.17   97.94   98.39    0.98\n",
      " 22   13600         236.77    340.90   97.73   97.00   98.47    0.98\n",
      " 22   13800         221.60    333.28   98.20   97.99   98.42    0.98\n",
      "\u001b[38;5;2m✔ Saved pipeline to output directory\u001b[0m\n",
      "\\Users\\izardy\\Documents\\GitHub\\ner\\models\\ner_model_news_english\\model-last\n"
     ]
    },
    {
     "name": "stderr",
     "output_type": "stream",
     "text": [
      "c:\\Users\\izardy\\miniconda3\\envs\\spacy\\lib\\site-packages\\transformers\\utils\\generic.py:441: FutureWarning: `torch.utils._pytree._register_pytree_node` is deprecated. Please use `torch.utils._pytree.register_pytree_node` instead.\n",
      "  _torch_pytree._register_pytree_node(\n",
      "c:\\Users\\izardy\\miniconda3\\envs\\spacy\\lib\\site-packages\\transformers\\utils\\generic.py:309: FutureWarning: `torch.utils._pytree._register_pytree_node` is deprecated. Please use `torch.utils._pytree.register_pytree_node` instead.\n",
      "  _torch_pytree._register_pytree_node(\n",
      "c:\\Users\\izardy\\miniconda3\\envs\\spacy\\lib\\site-packages\\huggingface_hub\\file_download.py:795: FutureWarning: `resume_download` is deprecated and will be removed in version 1.0.0. Downloads always resume when possible. If you want to force a new download, use `force_download=True`.\n",
      "  warnings.warn(\n",
      "c:\\Users\\izardy\\miniconda3\\envs\\spacy\\lib\\site-packages\\huggingface_hub\\file_download.py:140: UserWarning: `huggingface_hub` cache-system uses symlinks by default to efficiently store duplicated files but your machine does not support them in C:\\Users\\izardy\\.cache\\huggingface\\hub\\models--distilroberta-base. Caching files will still work but in a degraded version that might require more space on your disk. This warning can be disabled by setting the `HF_HUB_DISABLE_SYMLINKS_WARNING` environment variable. For more details, see https://huggingface.co/docs/huggingface_hub/how-to-cache#limitations.\n",
      "To support symlinks on Windows, you either need to activate Developer Mode or to run Python as an administrator. In order to activate developer mode, see this article: https://docs.microsoft.com/en-us/windows/apps/get-started/enable-your-device-for-development\n",
      "  warnings.warn(message)\n",
      "c:\\Users\\izardy\\miniconda3\\envs\\spacy\\lib\\site-packages\\transformers\\utils\\generic.py:309: FutureWarning: `torch.utils._pytree._register_pytree_node` is deprecated. Please use `torch.utils._pytree.register_pytree_node` instead.\n",
      "  _torch_pytree._register_pytree_node(\n",
      "c:\\Users\\izardy\\miniconda3\\envs\\spacy\\lib\\site-packages\\huggingface_hub\\file_download.py:795: FutureWarning: `resume_download` is deprecated and will be removed in version 1.0.0. Downloads always resume when possible. If you want to force a new download, use `force_download=True`.\n",
      "  warnings.warn(\n"
     ]
    }
   ],
   "source": [
    "!python -m spacy train config.cfg --output /Users/izardy/Documents/GitHub/ner/models/ner_model_news_english/ --paths.train /Users/izardy/Documents/GitHub/ner/labelling/ner_news_english/train.spacy --paths.dev /Users/izardy/Documents/GitHub/ner/labelling/ner_news_english/dev.spacy --gpu-id 0"
   ]
  },
  {
   "cell_type": "code",
   "execution_count": 1,
   "metadata": {},
   "outputs": [
    {
     "name": "stdout",
     "output_type": "stream",
     "text": [
      "False\n"
     ]
    }
   ],
   "source": [
    "# try if the above fail to excute\n",
    "import spacy\n",
    "import thinc_gpu_ops\n",
    "print(thinc_gpu_ops.AVAILABLE)  # Should print True\n"
   ]
  }
 ],
 "metadata": {
  "kernelspec": {
   "display_name": "spacy",
   "language": "python",
   "name": "python3"
  },
  "language_info": {
   "codemirror_mode": {
    "name": "ipython",
    "version": 3
   },
   "file_extension": ".py",
   "mimetype": "text/x-python",
   "name": "python",
   "nbconvert_exporter": "python",
   "pygments_lexer": "ipython3",
   "version": "3.10.16"
  },
  "orig_nbformat": 4
 },
 "nbformat": 4,
 "nbformat_minor": 2
}
