{
 "cells": [
  {
   "cell_type": "code",
   "execution_count": null,
   "metadata": {},
   "outputs": [],
   "source": [
    "!python -m spacy init fill-config base_config_gpu.cfg config.cfg"
   ]
  },
  {
   "cell_type": "code",
   "execution_count": 10,
   "metadata": {},
   "outputs": [
    {
     "name": "stdout",
     "output_type": "stream",
     "text": [
      "\u001b[38;5;4mℹ Saving to output directory:\n",
      "/Users/izardy/Documents/GitHub/ner/models/ner_model_news_english\u001b[0m\n",
      "\u001b[38;5;4mℹ Using GPU: 0\u001b[0m\n",
      "\u001b[1m\n",
      "=========================== Initializing pipeline ===========================\u001b[0m\n",
      "/Users/izardy/miniconda3/envs/spacy/lib/python3.10/site-packages/transformers/utils/generic.py:441: FutureWarning: `torch.utils._pytree._register_pytree_node` is deprecated. Please use `torch.utils._pytree.register_pytree_node` instead.\n",
      "  _torch_pytree._register_pytree_node(\n",
      "/Users/izardy/miniconda3/envs/spacy/lib/python3.10/site-packages/transformers/utils/generic.py:309: FutureWarning: `torch.utils._pytree._register_pytree_node` is deprecated. Please use `torch.utils._pytree.register_pytree_node` instead.\n",
      "  _torch_pytree._register_pytree_node(\n",
      "/Users/izardy/miniconda3/envs/spacy/lib/python3.10/site-packages/huggingface_hub/file_download.py:795: FutureWarning: `resume_download` is deprecated and will be removed in version 1.0.0. Downloads always resume when possible. If you want to force a new download, use `force_download=True`.\n",
      "  warnings.warn(\n",
      "/Users/izardy/miniconda3/envs/spacy/lib/python3.10/site-packages/transformers/utils/generic.py:309: FutureWarning: `torch.utils._pytree._register_pytree_node` is deprecated. Please use `torch.utils._pytree.register_pytree_node` instead.\n",
      "  _torch_pytree._register_pytree_node(\n",
      "Some weights of RobertaModel were not initialized from the model checkpoint at roberta-base and are newly initialized: ['roberta.pooler.dense.bias', 'roberta.pooler.dense.weight']\n",
      "You should probably TRAIN this model on a down-stream task to be able to use it for predictions and inference.\n",
      "huggingface/tokenizers: The current process just got forked, after parallelism has already been used. Disabling parallelism to avoid deadlocks...\n",
      "To disable this warning, you can either:\n",
      "\t- Avoid using `tokenizers` before the fork if possible\n",
      "\t- Explicitly set the environment variable TOKENIZERS_PARALLELISM=(true | false)\n",
      "\u001b[38;5;2m✔ Initialized pipeline\u001b[0m\n",
      "\u001b[1m\n",
      "============================= Training pipeline =============================\u001b[0m\n",
      "\u001b[38;5;4mℹ Pipeline: ['transformer', 'ner']\u001b[0m\n",
      "\u001b[38;5;4mℹ Initial learn rate: 0.0\u001b[0m\n",
      "E    #       LOSS TRANS...  LOSS NER  ENTS_F  ENTS_P  ENTS_R  SCORE \n",
      "---  ------  -------------  --------  ------  ------  ------  ------\n",
      "  0       0        1051.75   2019.95    0.00    0.00    0.00    0.00\n",
      "\u001b[38;5;3m⚠ Aborting and saving the final best model. Encountered exception:\n",
      "RuntimeError('MPS backend out of memory (MPS allocated: 7.05 GB, other\n",
      "allocations: 1.90 GB, max allowed: 9.07 GB). Tried to allocate 147.26 MB on\n",
      "private pool. Use PYTORCH_MPS_HIGH_WATERMARK_RATIO=0.0 to disable upper limit\n",
      "for memory allocations (may cause system failure).')\u001b[0m\n",
      "Traceback (most recent call last):\n",
      "  File \"/Users/izardy/miniconda3/envs/spacy/lib/python3.10/runpy.py\", line 196, in _run_module_as_main\n",
      "    return _run_code(code, main_globals, None,\n",
      "  File \"/Users/izardy/miniconda3/envs/spacy/lib/python3.10/runpy.py\", line 86, in _run_code\n",
      "    exec(code, run_globals)\n",
      "  File \"/Users/izardy/miniconda3/envs/spacy/lib/python3.10/site-packages/spacy/__main__.py\", line 4, in <module>\n",
      "    setup_cli()\n",
      "  File \"/Users/izardy/miniconda3/envs/spacy/lib/python3.10/site-packages/spacy/cli/_util.py\", line 87, in setup_cli\n",
      "    command(prog_name=COMMAND)\n",
      "  File \"/Users/izardy/miniconda3/envs/spacy/lib/python3.10/site-packages/click/core.py\", line 1157, in __call__\n",
      "    return self.main(*args, **kwargs)\n",
      "  File \"/Users/izardy/miniconda3/envs/spacy/lib/python3.10/site-packages/typer/core.py\", line 743, in main\n",
      "    return _main(\n",
      "  File \"/Users/izardy/miniconda3/envs/spacy/lib/python3.10/site-packages/typer/core.py\", line 198, in _main\n",
      "    rv = self.invoke(ctx)\n",
      "  File \"/Users/izardy/miniconda3/envs/spacy/lib/python3.10/site-packages/click/core.py\", line 1688, in invoke\n",
      "    return _process_result(sub_ctx.command.invoke(sub_ctx))\n",
      "  File \"/Users/izardy/miniconda3/envs/spacy/lib/python3.10/site-packages/click/core.py\", line 1434, in invoke\n",
      "    return ctx.invoke(self.callback, **ctx.params)\n",
      "  File \"/Users/izardy/miniconda3/envs/spacy/lib/python3.10/site-packages/click/core.py\", line 783, in invoke\n",
      "    return __callback(*args, **kwargs)\n",
      "  File \"/Users/izardy/miniconda3/envs/spacy/lib/python3.10/site-packages/typer/main.py\", line 698, in wrapper\n",
      "    return callback(**use_params)\n",
      "  File \"/Users/izardy/miniconda3/envs/spacy/lib/python3.10/site-packages/spacy/cli/train.py\", line 54, in train_cli\n",
      "    train(config_path, output_path, use_gpu=use_gpu, overrides=overrides)\n",
      "  File \"/Users/izardy/miniconda3/envs/spacy/lib/python3.10/site-packages/spacy/cli/train.py\", line 84, in train\n",
      "    train_nlp(nlp, output_path, use_gpu=use_gpu, stdout=sys.stdout, stderr=sys.stderr)\n",
      "  File \"/Users/izardy/miniconda3/envs/spacy/lib/python3.10/site-packages/spacy/training/loop.py\", line 135, in train\n",
      "    raise e\n",
      "  File \"/Users/izardy/miniconda3/envs/spacy/lib/python3.10/site-packages/spacy/training/loop.py\", line 118, in train\n",
      "    for batch, info, is_best_checkpoint in training_step_iterator:\n",
      "  File \"/Users/izardy/miniconda3/envs/spacy/lib/python3.10/site-packages/spacy/training/loop.py\", line 236, in train_while_improving\n",
      "    proc.finish_update(optimizer)  # type: ignore[attr-defined]\n",
      "  File \"spacy/pipeline/trainable_pipe.pyx\", line 252, in spacy.pipeline.trainable_pipe.TrainablePipe.finish_update\n",
      "  File \"/Users/izardy/miniconda3/envs/spacy/lib/python3.10/site-packages/thinc/model.py\", line 342, in finish_update\n",
      "    shim.finish_update(optimizer)\n",
      "  File \"/Users/izardy/miniconda3/envs/spacy/lib/python3.10/site-packages/thinc/shims/pytorch.py\", line 183, in finish_update\n",
      "    torch_data.data = xp2torch(\n",
      "  File \"/Users/izardy/miniconda3/envs/spacy/lib/python3.10/site-packages/thinc/util.py\", line 407, in xp2torch\n",
      "    torch_tensor = torch_tensor.to(device)\n",
      "RuntimeError: MPS backend out of memory (MPS allocated: 7.05 GB, other allocations: 1.90 GB, max allowed: 9.07 GB). Tried to allocate 147.26 MB on private pool. Use PYTORCH_MPS_HIGH_WATERMARK_RATIO=0.0 to disable upper limit for memory allocations (may cause system failure).\n"
     ]
    }
   ],
   "source": [
    "!python -m spacy train config.cfg --output /Users/izardy/Documents/GitHub/ner/models/ner_model_news_english --paths.train /Users/izardy/Documents/GitHub/ner/labelling/ner_news_english/train.spacy --paths.dev /Users/izardy/Documents/GitHub/ner/labelling/ner_news_english/dev.spacy --gpu-id 0"
   ]
  }
 ],
 "metadata": {
  "kernelspec": {
   "display_name": "spacy",
   "language": "python",
   "name": "python3"
  },
  "language_info": {
   "codemirror_mode": {
    "name": "ipython",
    "version": 3
   },
   "file_extension": ".py",
   "mimetype": "text/x-python",
   "name": "python",
   "nbconvert_exporter": "python",
   "pygments_lexer": "ipython3",
   "version": "3.10.16"
  },
  "orig_nbformat": 4
 },
 "nbformat": 4,
 "nbformat_minor": 2
}
