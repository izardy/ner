{
 "cells": [
  {
   "cell_type": "code",
   "execution_count": null,
   "metadata": {},
   "outputs": [],
   "source": [
    "!python -m spacy init fill-config base_config_gpu.cfg config.cfg"
   ]
  },
  {
   "cell_type": "code",
   "execution_count": null,
   "metadata": {},
   "outputs": [
    {
     "name": "stdout",
     "output_type": "stream",
     "text": [
      "\u001b[38;5;4mℹ Saving to output directory:\n",
      "/Users/izardy/Documents/GitHub/ner/models/ner_model_news_english\u001b[0m\n",
      "\u001b[38;5;4mℹ Using GPU: 0\u001b[0m\n",
      "\u001b[1m\n",
      "=========================== Initializing pipeline ===========================\u001b[0m\n",
      "/Users/izardy/miniconda3/envs/spacy/lib/python3.10/site-packages/transformers/utils/generic.py:441: FutureWarning: `torch.utils._pytree._register_pytree_node` is deprecated. Please use `torch.utils._pytree.register_pytree_node` instead.\n",
      "  _torch_pytree._register_pytree_node(\n",
      "/Users/izardy/miniconda3/envs/spacy/lib/python3.10/site-packages/transformers/utils/generic.py:309: FutureWarning: `torch.utils._pytree._register_pytree_node` is deprecated. Please use `torch.utils._pytree.register_pytree_node` instead.\n",
      "  _torch_pytree._register_pytree_node(\n",
      "/Users/izardy/miniconda3/envs/spacy/lib/python3.10/site-packages/huggingface_hub/file_download.py:795: FutureWarning: `resume_download` is deprecated and will be removed in version 1.0.0. Downloads always resume when possible. If you want to force a new download, use `force_download=True`.\n",
      "  warnings.warn(\n",
      "/Users/izardy/miniconda3/envs/spacy/lib/python3.10/site-packages/transformers/utils/generic.py:309: FutureWarning: `torch.utils._pytree._register_pytree_node` is deprecated. Please use `torch.utils._pytree.register_pytree_node` instead.\n",
      "  _torch_pytree._register_pytree_node(\n",
      "huggingface/tokenizers: The current process just got forked, after parallelism has already been used. Disabling parallelism to avoid deadlocks...\n",
      "To disable this warning, you can either:\n",
      "\t- Avoid using `tokenizers` before the fork if possible\n",
      "\t- Explicitly set the environment variable TOKENIZERS_PARALLELISM=(true | false)\n",
      "\u001b[38;5;2m✔ Initialized pipeline\u001b[0m\n",
      "\u001b[1m\n",
      "============================= Training pipeline =============================\u001b[0m\n",
      "\u001b[38;5;4mℹ Pipeline: ['transformer', 'ner']\u001b[0m\n",
      "\u001b[38;5;4mℹ Initial learn rate: 0.0\u001b[0m\n",
      "E    #       LOSS TRANS...  LOSS NER  ENTS_F  ENTS_P  ENTS_R  SCORE \n",
      "---  ------  -------------  --------  ------  ------  ------  ------\n",
      "  0       0        7730.64    713.15    0.13    0.09    0.25    0.00\n",
      " 25     200     1655624.56  86679.85   50.00   45.14   56.03    0.50\n",
      " 50     400       24086.98   5709.18   61.42   55.60   68.59    0.61\n",
      " 75     600        8074.89    707.42   60.94   56.00   66.83    0.61\n",
      "100     800         108.38    193.45   62.93   56.77   70.60    0.63\n",
      "125    1000          57.90    133.91   61.78   55.38   69.85    0.62\n",
      "150    1200          53.90    128.49   61.66   57.05   67.09    0.62\n",
      "175    1400          41.08    121.33   62.96   58.37   68.34    0.63\n",
      "200    1600          51.95    136.63   63.46   58.32   69.60    0.63\n",
      "225    1800          60.96    130.19   64.88   58.32   73.12    0.65\n",
      "250    2000          40.72    122.88   63.44   57.43   70.85    0.63\n"
     ]
    }
   ],
   "source": [
    "!python -m spacy train config.cfg --output /Users/izardy/Documents/GitHub/ner/models/ner_model_news_english --paths.train /Users/izardy/Documents/GitHub/ner/labelling/ner_news_english/train.spacy --paths.dev /Users/izardy/Documents/GitHub/ner/labelling/ner_news_english/dev.spacy --gpu-id 0"
   ]
  }
 ],
 "metadata": {
  "kernelspec": {
   "display_name": "spacy",
   "language": "python",
   "name": "python3"
  },
  "language_info": {
   "codemirror_mode": {
    "name": "ipython",
    "version": 3
   },
   "file_extension": ".py",
   "mimetype": "text/x-python",
   "name": "python",
   "nbconvert_exporter": "python",
   "pygments_lexer": "ipython3",
   "version": "3.10.16"
  },
  "orig_nbformat": 4
 },
 "nbformat": 4,
 "nbformat_minor": 2
}
