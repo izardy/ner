{
 "cells": [
  {
   "cell_type": "code",
   "execution_count": 2,
   "metadata": {},
   "outputs": [
    {
     "name": "stderr",
     "output_type": "stream",
     "text": [
      "Usage: python -m spacy init fill-config [OPTIONS] BASE_PATH [OUTPUT_FILE]\n",
      "Try 'python -m spacy init fill-config --help' for help.\n",
      "┌─ Error ─────────────────────────────────────────────────────────────────────┐\n",
      "│ Invalid value for 'BASE_PATH': File 'base_config_gpu.cfg' does not exist.   │\n",
      "└─────────────────────────────────────────────────────────────────────────────┘\n"
     ]
    }
   ],
   "source": [
    "!python -m spacy init fill-config base_config_gpu.cfg config.cfg"
   ]
  },
  {
   "cell_type": "code",
   "execution_count": 1,
   "metadata": {},
   "outputs": [
    {
     "name": "stderr",
     "output_type": "stream",
     "text": [
      "Usage: python -m spacy train [OPTIONS] CONFIG_PATH\n",
      "Try 'python -m spacy train --help' for help.\n",
      "┌─ Error ─────────────────────────────────────────────────────────────────────┐\n",
      "│ Invalid value for 'CONFIG_PATH': Path 'config.cfg' does not exist.          │\n",
      "└─────────────────────────────────────────────────────────────────────────────┘\n"
     ]
    }
   ],
   "source": [
    "!python -m spacy train config.cfg --output /Users/izardy/Documents/GitHub/ner/models/ner_model_news_english/ --paths.train /Users/izardy/Documents/GitHub/ner/labelling/ner_news_english/train.spacy --paths.dev /Users/izardy/Documents/GitHub/ner/labelling/ner_news_english/dev.spacy --gpu-id 0"
   ]
  }
 ],
 "metadata": {
  "kernelspec": {
   "display_name": "spacy",
   "language": "python",
   "name": "python3"
  },
  "language_info": {
   "codemirror_mode": {
    "name": "ipython",
    "version": 3
   },
   "file_extension": ".py",
   "mimetype": "text/x-python",
   "name": "python",
   "nbconvert_exporter": "python",
   "pygments_lexer": "ipython3",
   "version": "3.10.16"
  },
  "orig_nbformat": 4
 },
 "nbformat": 4,
 "nbformat_minor": 2
}
