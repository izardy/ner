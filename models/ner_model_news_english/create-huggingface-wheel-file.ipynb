{
 "cells": [
  {
   "cell_type": "code",
   "execution_count": 5,
   "metadata": {},
   "outputs": [
    {
     "name": "stdout",
     "output_type": "stream",
     "text": [
      "\u001b[38;5;4mℹ Building package artifacts: wheel\u001b[0m\n",
      "\u001b[38;5;2m✔ Including 2 package requirement(s) from meta and config\u001b[0m\n",
      "spacy-transformers>=1.3.5,<1.4.0, spacy>=3.8.3,<3.9.0\n",
      "\u001b[38;5;2m✔ Loaded meta.json from file\u001b[0m\n",
      "model-best\\meta.json\n",
      "\u001b[38;5;2m✔ Generated README.md from meta.json\u001b[0m\n",
      "\u001b[38;5;2m✔ Successfully created package directory\n",
      "'en_spacy_ner_finetuned_news_article-0.0.0'\u001b[0m\n",
      "en_spacy_ner_finetuned_news_article-0.0.0\n",
      "* Creating isolated environment: venv+pip...\n",
      "* Installing packages in isolated environment:\n",
      "  - setuptools >= 40.8.0\n",
      "* Getting build dependencies for wheel...\n",
      "running egg_info\n",
      "creating en_spacy_ner_finetuned_news_article.egg-info\n",
      "writing en_spacy_ner_finetuned_news_article.egg-info\\PKG-INFO\n",
      "writing dependency_links to en_spacy_ner_finetuned_news_article.egg-info\\dependency_links.txt\n",
      "writing entry points to en_spacy_ner_finetuned_news_article.egg-info\\entry_points.txt\n",
      "writing requirements to en_spacy_ner_finetuned_news_article.egg-info\\requires.txt\n",
      "writing top-level names to en_spacy_ner_finetuned_news_article.egg-info\\top_level.txt\n",
      "writing manifest file 'en_spacy_ner_finetuned_news_article.egg-info\\SOURCES.txt'\n",
      "reading manifest file 'en_spacy_ner_finetuned_news_article.egg-info\\SOURCES.txt'\n",
      "reading manifest template 'MANIFEST.in'\n",
      "writing manifest file 'en_spacy_ner_finetuned_news_article.egg-info\\SOURCES.txt'\n",
      "* Building wheel...\n",
      "running bdist_wheel\n",
      "running build\n",
      "running build_py\n",
      "creating build\\lib\\en_spacy_ner_finetuned_news_article\n",
      "copying en_spacy_ner_finetuned_news_article\\__init__.py -> build\\lib\\en_spacy_ner_finetuned_news_article\n",
      "creating build\\lib\\en_spacy_ner_finetuned_news_article\\en_spacy_ner_finetuned_news_article-0.0.0\n",
      "copying en_spacy_ner_finetuned_news_article\\en_spacy_ner_finetuned_news_article-0.0.0\\config.cfg -> build\\lib\\en_spacy_ner_finetuned_news_article\\en_spacy_ner_finetuned_news_article-0.0.0\n",
      "copying en_spacy_ner_finetuned_news_article\\en_spacy_ner_finetuned_news_article-0.0.0\\meta.json -> build\\lib\\en_spacy_ner_finetuned_news_article\\en_spacy_ner_finetuned_news_article-0.0.0\n",
      "copying en_spacy_ner_finetuned_news_article\\en_spacy_ner_finetuned_news_article-0.0.0\\README.md -> build\\lib\\en_spacy_ner_finetuned_news_article\\en_spacy_ner_finetuned_news_article-0.0.0\n",
      "copying en_spacy_ner_finetuned_news_article\\en_spacy_ner_finetuned_news_article-0.0.0\\tokenizer -> build\\lib\\en_spacy_ner_finetuned_news_article\\en_spacy_ner_finetuned_news_article-0.0.0\n",
      "creating build\\lib\\en_spacy_ner_finetuned_news_article\\en_spacy_ner_finetuned_news_article-0.0.0\\ner\n",
      "copying en_spacy_ner_finetuned_news_article\\en_spacy_ner_finetuned_news_article-0.0.0\\ner\\cfg -> build\\lib\\en_spacy_ner_finetuned_news_article\\en_spacy_ner_finetuned_news_article-0.0.0\\ner\n",
      "copying en_spacy_ner_finetuned_news_article\\en_spacy_ner_finetuned_news_article-0.0.0\\ner\\model -> build\\lib\\en_spacy_ner_finetuned_news_article\\en_spacy_ner_finetuned_news_article-0.0.0\\ner\n",
      "copying en_spacy_ner_finetuned_news_article\\en_spacy_ner_finetuned_news_article-0.0.0\\ner\\moves -> build\\lib\\en_spacy_ner_finetuned_news_article\\en_spacy_ner_finetuned_news_article-0.0.0\\ner\n",
      "creating build\\lib\\en_spacy_ner_finetuned_news_article\\en_spacy_ner_finetuned_news_article-0.0.0\\transformer\n",
      "copying en_spacy_ner_finetuned_news_article\\en_spacy_ner_finetuned_news_article-0.0.0\\transformer\\cfg -> build\\lib\\en_spacy_ner_finetuned_news_article\\en_spacy_ner_finetuned_news_article-0.0.0\\transformer\n",
      "copying en_spacy_ner_finetuned_news_article\\en_spacy_ner_finetuned_news_article-0.0.0\\transformer\\model -> build\\lib\\en_spacy_ner_finetuned_news_article\\en_spacy_ner_finetuned_news_article-0.0.0\\transformer\n",
      "creating build\\lib\\en_spacy_ner_finetuned_news_article\\en_spacy_ner_finetuned_news_article-0.0.0\\vocab\n",
      "copying en_spacy_ner_finetuned_news_article\\en_spacy_ner_finetuned_news_article-0.0.0\\vocab\\key2row -> build\\lib\\en_spacy_ner_finetuned_news_article\\en_spacy_ner_finetuned_news_article-0.0.0\\vocab\n",
      "copying en_spacy_ner_finetuned_news_article\\en_spacy_ner_finetuned_news_article-0.0.0\\vocab\\lookups.bin -> build\\lib\\en_spacy_ner_finetuned_news_article\\en_spacy_ner_finetuned_news_article-0.0.0\\vocab\n",
      "copying en_spacy_ner_finetuned_news_article\\en_spacy_ner_finetuned_news_article-0.0.0\\vocab\\strings.json -> build\\lib\\en_spacy_ner_finetuned_news_article\\en_spacy_ner_finetuned_news_article-0.0.0\\vocab\n",
      "copying en_spacy_ner_finetuned_news_article\\en_spacy_ner_finetuned_news_article-0.0.0\\vocab\\vectors -> build\\lib\\en_spacy_ner_finetuned_news_article\\en_spacy_ner_finetuned_news_article-0.0.0\\vocab\n",
      "copying en_spacy_ner_finetuned_news_article\\en_spacy_ner_finetuned_news_article-0.0.0\\vocab\\vectors.cfg -> build\\lib\\en_spacy_ner_finetuned_news_article\\en_spacy_ner_finetuned_news_article-0.0.0\\vocab\n",
      "copying en_spacy_ner_finetuned_news_article\\meta.json -> build\\lib\\en_spacy_ner_finetuned_news_article\n",
      "installing to build\\bdist.win-amd64\\wheel\n",
      "running install\n",
      "running install_lib\n",
      "creating build\\bdist.win-amd64\\wheel\n",
      "creating build\\bdist.win-amd64\\wheel\\en_spacy_ner_finetuned_news_article\n",
      "creating build\\bdist.win-amd64\\wheel\\en_spacy_ner_finetuned_news_article\\en_spacy_ner_finetuned_news_article-0.0.0\n",
      "copying build\\lib\\en_spacy_ner_finetuned_news_article\\en_spacy_ner_finetuned_news_article-0.0.0\\config.cfg -> build\\bdist.win-amd64\\wheel\\.\\en_spacy_ner_finetuned_news_article\\en_spacy_ner_finetuned_news_article-0.0.0\n",
      "copying build\\lib\\en_spacy_ner_finetuned_news_article\\en_spacy_ner_finetuned_news_article-0.0.0\\meta.json -> build\\bdist.win-amd64\\wheel\\.\\en_spacy_ner_finetuned_news_article\\en_spacy_ner_finetuned_news_article-0.0.0\n",
      "creating build\\bdist.win-amd64\\wheel\\en_spacy_ner_finetuned_news_article\\en_spacy_ner_finetuned_news_article-0.0.0\\ner\n",
      "copying build\\lib\\en_spacy_ner_finetuned_news_article\\en_spacy_ner_finetuned_news_article-0.0.0\\ner\\cfg -> build\\bdist.win-amd64\\wheel\\.\\en_spacy_ner_finetuned_news_article\\en_spacy_ner_finetuned_news_article-0.0.0\\ner\n",
      "copying build\\lib\\en_spacy_ner_finetuned_news_article\\en_spacy_ner_finetuned_news_article-0.0.0\\ner\\model -> build\\bdist.win-amd64\\wheel\\.\\en_spacy_ner_finetuned_news_article\\en_spacy_ner_finetuned_news_article-0.0.0\\ner\n",
      "copying build\\lib\\en_spacy_ner_finetuned_news_article\\en_spacy_ner_finetuned_news_article-0.0.0\\ner\\moves -> build\\bdist.win-amd64\\wheel\\.\\en_spacy_ner_finetuned_news_article\\en_spacy_ner_finetuned_news_article-0.0.0\\ner\n",
      "copying build\\lib\\en_spacy_ner_finetuned_news_article\\en_spacy_ner_finetuned_news_article-0.0.0\\README.md -> build\\bdist.win-amd64\\wheel\\.\\en_spacy_ner_finetuned_news_article\\en_spacy_ner_finetuned_news_article-0.0.0\n",
      "copying build\\lib\\en_spacy_ner_finetuned_news_article\\en_spacy_ner_finetuned_news_article-0.0.0\\tokenizer -> build\\bdist.win-amd64\\wheel\\.\\en_spacy_ner_finetuned_news_article\\en_spacy_ner_finetuned_news_article-0.0.0\n",
      "creating build\\bdist.win-amd64\\wheel\\en_spacy_ner_finetuned_news_article\\en_spacy_ner_finetuned_news_article-0.0.0\\transformer\n",
      "copying build\\lib\\en_spacy_ner_finetuned_news_article\\en_spacy_ner_finetuned_news_article-0.0.0\\transformer\\cfg -> build\\bdist.win-amd64\\wheel\\.\\en_spacy_ner_finetuned_news_article\\en_spacy_ner_finetuned_news_article-0.0.0\\transformer\n",
      "copying build\\lib\\en_spacy_ner_finetuned_news_article\\en_spacy_ner_finetuned_news_article-0.0.0\\transformer\\model -> build\\bdist.win-amd64\\wheel\\.\\en_spacy_ner_finetuned_news_article\\en_spacy_ner_finetuned_news_article-0.0.0\\transformer\n",
      "creating build\\bdist.win-amd64\\wheel\\en_spacy_ner_finetuned_news_article\\en_spacy_ner_finetuned_news_article-0.0.0\\vocab\n",
      "copying build\\lib\\en_spacy_ner_finetuned_news_article\\en_spacy_ner_finetuned_news_article-0.0.0\\vocab\\key2row -> build\\bdist.win-amd64\\wheel\\.\\en_spacy_ner_finetuned_news_article\\en_spacy_ner_finetuned_news_article-0.0.0\\vocab\n",
      "copying build\\lib\\en_spacy_ner_finetuned_news_article\\en_spacy_ner_finetuned_news_article-0.0.0\\vocab\\lookups.bin -> build\\bdist.win-amd64\\wheel\\.\\en_spacy_ner_finetuned_news_article\\en_spacy_ner_finetuned_news_article-0.0.0\\vocab\n",
      "copying build\\lib\\en_spacy_ner_finetuned_news_article\\en_spacy_ner_finetuned_news_article-0.0.0\\vocab\\strings.json -> build\\bdist.win-amd64\\wheel\\.\\en_spacy_ner_finetuned_news_article\\en_spacy_ner_finetuned_news_article-0.0.0\\vocab\n",
      "copying build\\lib\\en_spacy_ner_finetuned_news_article\\en_spacy_ner_finetuned_news_article-0.0.0\\vocab\\vectors -> build\\bdist.win-amd64\\wheel\\.\\en_spacy_ner_finetuned_news_article\\en_spacy_ner_finetuned_news_article-0.0.0\\vocab\n",
      "copying build\\lib\\en_spacy_ner_finetuned_news_article\\en_spacy_ner_finetuned_news_article-0.0.0\\vocab\\vectors.cfg -> build\\bdist.win-amd64\\wheel\\.\\en_spacy_ner_finetuned_news_article\\en_spacy_ner_finetuned_news_article-0.0.0\\vocab\n",
      "copying build\\lib\\en_spacy_ner_finetuned_news_article\\meta.json -> build\\bdist.win-amd64\\wheel\\.\\en_spacy_ner_finetuned_news_article\n",
      "copying build\\lib\\en_spacy_ner_finetuned_news_article\\__init__.py -> build\\bdist.win-amd64\\wheel\\.\\en_spacy_ner_finetuned_news_article\n",
      "running install_egg_info\n",
      "running egg_info\n",
      "writing en_spacy_ner_finetuned_news_article.egg-info\\PKG-INFO\n",
      "writing dependency_links to en_spacy_ner_finetuned_news_article.egg-info\\dependency_links.txt\n",
      "writing entry points to en_spacy_ner_finetuned_news_article.egg-info\\entry_points.txt\n",
      "writing requirements to en_spacy_ner_finetuned_news_article.egg-info\\requires.txt\n",
      "writing top-level names to en_spacy_ner_finetuned_news_article.egg-info\\top_level.txt\n",
      "reading manifest file 'en_spacy_ner_finetuned_news_article.egg-info\\SOURCES.txt'\n",
      "reading manifest template 'MANIFEST.in'\n",
      "writing manifest file 'en_spacy_ner_finetuned_news_article.egg-info\\SOURCES.txt'\n",
      "Copying en_spacy_ner_finetuned_news_article.egg-info to build\\bdist.win-amd64\\wheel\\.\\en_spacy_ner_finetuned_news_article-0.0.0-py3.10.egg-info\n",
      "running install_scripts\n",
      "creating build\\bdist.win-amd64\\wheel\\en_spacy_ner_finetuned_news_article-0.0.0.dist-info\\WHEEL\n",
      "creating 'C:\\Users\\izardy\\Documents\\GitHub\\ner\\models\\ner_model_news_english\\en_spacy_ner_finetuned_news_article-0.0.0\\dist\\.tmp-r67qfymp\\en_spacy_ner_finetuned_news_article-0.0.0-py3-none-any.whl' and adding 'build\\bdist.win-amd64\\wheel' to it\n",
      "adding 'en_spacy_ner_finetuned_news_article/__init__.py'\n",
      "adding 'en_spacy_ner_finetuned_news_article/meta.json'\n",
      "adding 'en_spacy_ner_finetuned_news_article/en_spacy_ner_finetuned_news_article-0.0.0/README.md'\n",
      "adding 'en_spacy_ner_finetuned_news_article/en_spacy_ner_finetuned_news_article-0.0.0/config.cfg'\n",
      "adding 'en_spacy_ner_finetuned_news_article/en_spacy_ner_finetuned_news_article-0.0.0/meta.json'\n",
      "adding 'en_spacy_ner_finetuned_news_article/en_spacy_ner_finetuned_news_article-0.0.0/tokenizer'\n",
      "adding 'en_spacy_ner_finetuned_news_article/en_spacy_ner_finetuned_news_article-0.0.0/ner/cfg'\n",
      "adding 'en_spacy_ner_finetuned_news_article/en_spacy_ner_finetuned_news_article-0.0.0/ner/model'\n",
      "adding 'en_spacy_ner_finetuned_news_article/en_spacy_ner_finetuned_news_article-0.0.0/ner/moves'\n",
      "adding 'en_spacy_ner_finetuned_news_article/en_spacy_ner_finetuned_news_article-0.0.0/transformer/cfg'\n",
      "adding 'en_spacy_ner_finetuned_news_article/en_spacy_ner_finetuned_news_article-0.0.0/transformer/model'\n",
      "adding 'en_spacy_ner_finetuned_news_article/en_spacy_ner_finetuned_news_article-0.0.0/vocab/key2row'\n",
      "adding 'en_spacy_ner_finetuned_news_article/en_spacy_ner_finetuned_news_article-0.0.0/vocab/lookups.bin'\n",
      "adding 'en_spacy_ner_finetuned_news_article/en_spacy_ner_finetuned_news_article-0.0.0/vocab/strings.json'\n",
      "adding 'en_spacy_ner_finetuned_news_article/en_spacy_ner_finetuned_news_article-0.0.0/vocab/vectors'\n",
      "adding 'en_spacy_ner_finetuned_news_article/en_spacy_ner_finetuned_news_article-0.0.0/vocab/vectors.cfg'\n",
      "adding 'en_spacy_ner_finetuned_news_article-0.0.0.dist-info/METADATA'\n",
      "adding 'en_spacy_ner_finetuned_news_article-0.0.0.dist-info/WHEEL'\n",
      "adding 'en_spacy_ner_finetuned_news_article-0.0.0.dist-info/entry_points.txt'\n",
      "adding 'en_spacy_ner_finetuned_news_article-0.0.0.dist-info/top_level.txt'\n",
      "adding 'en_spacy_ner_finetuned_news_article-0.0.0.dist-info/RECORD'\n",
      "removing build\\bdist.win-amd64\\wheel\n",
      "Successfully built en_spacy_ner_finetuned_news_article-0.0.0-py3-none-any.whl\n",
      "\u001b[38;5;2m✔ Successfully created binary wheel\u001b[0m\n",
      "en_spacy_ner_finetuned_news_article-0.0.0\\dist\\en_spacy_ner_finetuned_news_article-0.0.0-py3-none-any.whl\n"
     ]
    },
    {
     "name": "stderr",
     "output_type": "stream",
     "text": [
      "c:\\Users\\izardy\\miniconda3\\envs\\spacy\\lib\\site-packages\\transformers\\utils\\generic.py:441: FutureWarning: `torch.utils._pytree._register_pytree_node` is deprecated. Please use `torch.utils._pytree.register_pytree_node` instead.\n",
      "  _torch_pytree._register_pytree_node(\n",
      "c:\\Users\\izardy\\miniconda3\\envs\\spacy\\lib\\site-packages\\transformers\\utils\\generic.py:309: FutureWarning: `torch.utils._pytree._register_pytree_node` is deprecated. Please use `torch.utils._pytree.register_pytree_node` instead.\n",
      "  _torch_pytree._register_pytree_node(\n",
      "c:\\Users\\izardy\\miniconda3\\envs\\spacy\\lib\\site-packages\\transformers\\utils\\generic.py:309: FutureWarning: `torch.utils._pytree._register_pytree_node` is deprecated. Please use `torch.utils._pytree.register_pytree_node` instead.\n",
      "  _torch_pytree._register_pytree_node(\n",
      "c:\\Users\\izardy\\miniconda3\\envs\\spacy\\lib\\site-packages\\spacy_transformers\\layers\\hf_shim.py:124: FutureWarning: You are using `torch.load` with `weights_only=False` (the current default value), which uses the default pickle module implicitly. It is possible to construct malicious pickle data which will execute arbitrary code during unpickling (See https://github.com/pytorch/pytorch/blob/main/SECURITY.md#untrusted-models for more details). In a future release, the default value for `weights_only` will be flipped to `True`. This limits the functions that could be executed during unpickling. Arbitrary objects will no longer be allowed to be loaded via this mode unless they are explicitly allowlisted by the user via `torch.serialization.add_safe_globals`. We recommend you start setting `weights_only=True` for any use case where you don't have full control of the loaded file. Please open an issue on GitHub for any issues related to this experimental feature.\n",
      "  self._model.load_state_dict(torch.load(filelike, map_location=device))\n",
      "warning: no files found matching 'LICENSE'\n",
      "warning: no files found matching 'LICENSES_SOURCES'\n",
      "warning: no files found matching 'LICENSE'\n",
      "warning: no files found matching 'LICENSES_SOURCES'\n"
     ]
    }
   ],
   "source": [
    "!python -m spacy package \"model-best\" \"./\" --build wheel\n",
    "\n",
    "# folder name en_spacy_ner_finetuned_news_article-0.0.0 will be created\n"
   ]
  },
  {
   "cell_type": "code",
   "execution_count": 13,
   "metadata": {},
   "outputs": [
    {
     "data": {
      "application/vnd.jupyter.widget-view+json": {
       "model_id": "60587776a20548759c82bf904fb48ad0",
       "version_major": 2,
       "version_minor": 0
      },
      "text/plain": [
       "VBox(children=(HTML(value='<center> <img\\nsrc=https://huggingface.co/front/assets/huggingface_logo-noborder.sv…"
      ]
     },
     "metadata": {},
     "output_type": "display_data"
    }
   ],
   "source": [
    "from huggingface_hub import login\n",
    "login()  # This will prompt for your access token"
   ]
  },
  {
   "cell_type": "code",
   "execution_count": 2,
   "metadata": {},
   "outputs": [
    {
     "data": {
      "text/plain": [
       "GitRefs(branches=[GitRefInfo(name='main', ref='refs/heads/main', target_commit='3cbc059cb2e2f8ab592713953767408f674f317a')], converts=[], tags=[], pull_requests=None)"
      ]
     },
     "execution_count": 2,
     "metadata": {},
     "output_type": "execute_result"
    }
   ],
   "source": [
    "from huggingface_hub import list_repo_refs\n",
    "list_repo_refs(\"izardy/en_spacy_ner_finetuned_news_article\", repo_type=\"model\")"
   ]
  },
  {
   "cell_type": "code",
   "execution_count": null,
   "metadata": {},
   "outputs": [],
   "source": [
    "'''\n",
    "# for huggingface new repo\n",
    "from huggingface_hub import create_repo\n",
    "\n",
    "create_repo(\n",
    "    repo_id=\"your-username/your-model-name\",\n",
    "    repo_type=\"model\",\n",
    "    private=False  # Set to True if you want a private repository\n",
    ")\n",
    "'''"
   ]
  },
  {
   "cell_type": "code",
   "execution_count": 3,
   "metadata": {},
   "outputs": [
    {
     "name": "stderr",
     "output_type": "stream",
     "text": [
      "c:\\Users\\izardy\\miniconda3\\envs\\spacy\\lib\\site-packages\\huggingface_hub\\hf_api.py:9234: UserWarning: Warnings while validating metadata in README.md:\n",
      "- empty or missing yaml metadata in repo card\n",
      "  warnings.warn(f\"Warnings while validating metadata in README.md:\\n{message}\")\n"
     ]
    },
    {
     "data": {
      "application/vnd.jupyter.widget-view+json": {
       "model_id": "1dd8ab92ab404bcea7e5e13bfa29275d",
       "version_major": 2,
       "version_minor": 0
      },
      "text/plain": [
       "model:   0%|          | 0.00/332M [00:00<?, ?B/s]"
      ]
     },
     "metadata": {},
     "output_type": "display_data"
    },
    {
     "data": {
      "application/vnd.jupyter.widget-view+json": {
       "model_id": "85c148a3a2324ef29bf56b73782f13cf",
       "version_major": 2,
       "version_minor": 0
      },
      "text/plain": [
       "model:   0%|          | 0.00/332M [00:00<?, ?B/s]"
      ]
     },
     "metadata": {},
     "output_type": "display_data"
    },
    {
     "data": {
      "application/vnd.jupyter.widget-view+json": {
       "model_id": "7428208a115a4889bf9e44e089576c12",
       "version_major": 2,
       "version_minor": 0
      },
      "text/plain": [
       "en_spacy_ner_finetuned_news_article-0.0.0-py3-none-any.whl:   0%|          | 0.00/307M [00:00<?, ?B/s]"
      ]
     },
     "metadata": {},
     "output_type": "display_data"
    },
    {
     "data": {
      "application/vnd.jupyter.widget-view+json": {
       "model_id": "4c9203aac2ab45de814fea231ffd1977",
       "version_major": 2,
       "version_minor": 0
      },
      "text/plain": [
       "Upload 3 LFS files:   0%|          | 0/3 [00:00<?, ?it/s]"
      ]
     },
     "metadata": {},
     "output_type": "display_data"
    },
    {
     "data": {
      "text/plain": [
       "CommitInfo(commit_url='https://huggingface.co/izardy/en_spacy_ner_finetuned_news_article/commit/cce55558df8b7e1f15ff31c7bea3b86c55dabe61', commit_message='Upload folder using huggingface_hub', commit_description='', oid='cce55558df8b7e1f15ff31c7bea3b86c55dabe61', pr_url=None, repo_url=RepoUrl('https://huggingface.co/izardy/en_spacy_ner_finetuned_news_article', endpoint='https://huggingface.co', repo_type='model', repo_id='izardy/en_spacy_ner_finetuned_news_article'), pr_revision=None, pr_num=None)"
      ]
     },
     "execution_count": 3,
     "metadata": {},
     "output_type": "execute_result"
    }
   ],
   "source": [
    "#upload to existing huggingface model\n",
    "from huggingface_hub import upload_folder\n",
    "\n",
    "# Upload the entire model directory\n",
    "upload_folder(\n",
    "    folder_path=\"en_spacy_ner_finetuned_news_article-0.0.0\",\n",
    "    repo_id=\"izardy/en_spacy_ner_finetuned_news_article\",\n",
    "    repo_type=\"model\"\n",
    ")\n"
   ]
  }
 ],
 "metadata": {
  "kernelspec": {
   "display_name": "spacy",
   "language": "python",
   "name": "python3"
  },
  "language_info": {
   "codemirror_mode": {
    "name": "ipython",
    "version": 3
   },
   "file_extension": ".py",
   "mimetype": "text/x-python",
   "name": "python",
   "nbconvert_exporter": "python",
   "pygments_lexer": "ipython3",
   "version": "3.10.16"
  }
 },
 "nbformat": 4,
 "nbformat_minor": 2
}
