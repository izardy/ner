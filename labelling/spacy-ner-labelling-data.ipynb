{
 "cells": [
  {
   "cell_type": "code",
   "execution_count": null,
   "metadata": {},
   "outputs": [],
   "source": [
    "import spacy\n",
    "from spacy import displacy\n",
    "import spacy_annotator as spa\n",
    "import pandas as pd\n",
    "import numpy as np\n",
    "import os\n",
    "\n",
    "os.getcwd()"
   ]
  },
  {
   "cell_type": "code",
   "execution_count": null,
   "metadata": {},
   "outputs": [],
   "source": [
    "#nlp = spacy.blank(\"en\") # load a new spacy model for first time \n",
    "nlp = spacy.load(\"output/model-best\") # load custom model after first time train / or if available"
   ]
  },
  {
   "cell_type": "code",
   "execution_count": null,
   "metadata": {},
   "outputs": [],
   "source": [
    "# prepare train data\n",
    "import spacy_annotator as spa\n",
    "\n",
    "train_data=pd.DataFrame({\n",
    "    \"text\":pd.read_parquet('./sample.parquet').loc[91:100]['Content'].tolist()})\n",
    "\n",
    "train_data=train_data[~((train_data['text'].str.contains('[\\u4e00-\\u9fff]+'))|(train_data['text'].isnull()))].reset_index(drop=True)\n",
    "train_data['text']=train_data['text'].str.replace(r'(.+\\d\\)\\:)|(.+[A-Z]\\):)|(.+[A-Z]:)','',regex=True).str.strip()\n",
    "train_data"
   ]
  },
  {
   "attachments": {},
   "cell_type": "markdown",
   "metadata": {},
   "source": [
    "### Reference for Text Annotation\n",
    "\n",
    "> - <sup>PERSON:      People, including fictional.</sup>\n",
    "> - <sup>NORP:        Nationalities or religious or political groups.</sup>\n",
    "> - <sup>FAC:         Buildings, airports, highways, bridges, etc.</sup>\n",
    "> - <sup>ORG:         Companies, agencies, institutions, etc.</sup>\n",
    "> - <sup>GPE:         Countries, cities, states.</sup>\n",
    "> - <sup>LOC:         Non-GPE locations, mountain ranges, bodies of water.</sup>\n",
    "> - <sup>PRODUCT:     Objects, vehicles, foods, etc. (Not services.)</sup>\n",
    "> - <sup>EVENT:       Named hurricanes, battles, wars, sports events, etc.</sup>\n",
    "> - <sup>WORK_OF_ART: Titles of books, songs, etc.</sup>\n",
    "> - <sup>LAW:         Named documents made into laws.</sup>\n",
    "> - <sup>LANGUAGE:    Any named language.</sup>\n",
    "> - <sup>DATE:        Absolute or relative dates or periods.</sup>\n",
    "> - <sup>TIME:        Times smaller than a day.</sup>\n",
    "> - <sup>PERCENT:     Percentage, including ”%“.</sup>\n",
    "> - <sup>MONEY:       Monetary values, including unit.</sup>\n",
    "> - <sup>QUANTITY:    Measurements, as of weight or distance.</sup>\n",
    "> - <sup>ORDINAL:     “first”, “second”, etc.</sup>\n",
    "> - <sup>CARDINAL:    Numerals that do not fall under another type.</sup>"
   ]
  },
  {
   "cell_type": "code",
   "execution_count": 6,
   "metadata": {},
   "outputs": [],
   "source": [
    "annotator=spa.Annotator(labels=[\"GPE\",\"PERSON\",\"ORG\",\"FAC\",\"MONEY\",\"NORP\",\"LOC\",\"PRODUCT\",\"EVENT\",\"PERCENT\",\"WORK_OF_ART\",\"TIME\",\"ORDINAL\",\"CARDINAL\",\"QUANTITY\",\"LAW\"],model=nlp) #annotate train data"
   ]
  },
  {
   "cell_type": "code",
   "execution_count": null,
   "metadata": {},
   "outputs": [],
   "source": [
    "df_labels=annotator.annotate(df=train_data,col_text=\"text\",shuffle=False)"
   ]
  },
  {
   "cell_type": "code",
   "execution_count": null,
   "metadata": {},
   "outputs": [],
   "source": [
    "spacy_annotations = annotator.to_spacy(df_labels,\"./train/train_1_100.spacy\")"
   ]
  }
 ],
 "metadata": {
  "kernelspec": {
   "display_name": "venv",
   "language": "python",
   "name": "python3"
  },
  "language_info": {
   "codemirror_mode": {
    "name": "ipython",
    "version": 3
   },
   "file_extension": ".py",
   "mimetype": "text/x-python",
   "name": "python",
   "nbconvert_exporter": "python",
   "pygments_lexer": "ipython3",
   "version": "3.10.15"
  },
  "orig_nbformat": 4
 },
 "nbformat": 4,
 "nbformat_minor": 2
}
