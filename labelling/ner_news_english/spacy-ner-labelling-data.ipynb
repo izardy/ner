{
 "cells": [
  {
   "cell_type": "code",
   "execution_count": null,
   "metadata": {},
   "outputs": [],
   "source": [
    "import spacy\n",
    "from spacy import displacy\n",
    "import spacy_annotator as spa\n",
    "import pandas as pd\n",
    "import numpy as np\n",
    "\n",
    "nlp = spacy.blank(\"en\") # load a new spacy model for first time \n",
    "# nlp = spacy.load(\"output/model-best\") # load custom model after first time train / or if available\n",
    "\n",
    "# prepare train data\n",
    "import spacy_annotator as spa\n",
    "\n",
    "train_data=pd.DataFrame({\n",
    "    \"text\":pd.read_parquet('./sample.parquet').loc[0:10]['Content'].tolist()}) # i, j represent integer to chunk your data\n",
    "\n",
    "annotator=spa.Annotator(labels=[\"GPE\",\"PERSON\",\"ORG\",\"FAC\",\"MONEY\",\"NORP\",\"LOC\",\"PRODUCT\",\"EVENT\",\"PERCENT\",\"WORK_OF_ART\",\"TIME\",\"ORDINAL\",\"CARDINAL\",\"QUANTITY\",\"LAW\"],model=nlp) #annotate train data\n",
    "\n",
    "df_labels=annotator.annotate(df=train_data,col_text=\"text\",shuffle=False)\n",
    "\n"
   ]
  },
  {
   "cell_type": "code",
   "execution_count": null,
   "metadata": {},
   "outputs": [],
   "source": [
    "annotator.to_spacy(df_labels,\"./labelled/train_0_10.spacy\") \n",
    "\n",
    "# \"labelled\" is the folder where all labelled data portion save\n",
    "# \"train_0_10.spacy\" is the file name of the labelled data portion i.e from row 0 to 10\n"
   ]
  }
 ],
 "metadata": {
  "kernelspec": {
   "display_name": "spacy",
   "language": "python",
   "name": "python3"
  },
  "language_info": {
   "codemirror_mode": {
    "name": "ipython",
    "version": 3
   },
   "file_extension": ".py",
   "mimetype": "text/x-python",
   "name": "python",
   "nbconvert_exporter": "python",
   "pygments_lexer": "ipython3",
   "version": "3.10.16"
  },
  "orig_nbformat": 4
 },
 "nbformat": 4,
 "nbformat_minor": 2
}
